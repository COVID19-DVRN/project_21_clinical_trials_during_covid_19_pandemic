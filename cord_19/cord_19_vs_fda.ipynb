{
 "cells": [
  {
   "cell_type": "markdown",
   "metadata": {},
   "source": [
    "# Bring in Modules"
   ]
  },
  {
   "cell_type": "code",
   "execution_count": 17,
   "metadata": {
    "ExecuteTime": {
     "end_time": "2021-04-17T19:49:38.019571Z",
     "start_time": "2021-04-17T19:49:38.012601Z"
    }
   },
   "outputs": [],
   "source": [
    "import pandas as pd\n",
    "import random\n",
    "import seaborn as sns\n",
    "import matplotlib\n",
    "import matplotlib.pyplot as plt\n",
    "import matplotlib.dates as mdates\n",
    "from matplotlib.dates import DateFormatter\n",
    "import numpy as np\n",
    "pd.options.mode.chained_assignment = None "
   ]
  },
  {
   "cell_type": "markdown",
   "metadata": {},
   "source": [
    "# Bring in Data"
   ]
  },
  {
   "cell_type": "markdown",
   "metadata": {},
   "source": [
    "Note: The first `cord_19_metadata` is the full data, while the second one is the deduplicated one"
   ]
  },
  {
   "cell_type": "code",
   "execution_count": 2,
   "metadata": {
    "ExecuteTime": {
     "end_time": "2021-04-17T19:42:11.995193Z",
     "start_time": "2021-04-17T19:42:00.123858Z"
    }
   },
   "outputs": [
    {
     "name": "stderr",
     "output_type": "stream",
     "text": [
      "/Users/cpollack/opt/anaconda3/lib/python3.7/site-packages/IPython/core/interactiveshell.py:3147: DtypeWarning: Columns (1,4,5,6,13,14,15,16) have mixed types.Specify dtype option on import or set low_memory=False.\n",
      "  interactivity=interactivity, compiler=compiler, result=result)\n"
     ]
    }
   ],
   "source": [
    "#cord_19_metadata = pd.read_csv(\"/Volumes/LaCie/Dispersed Volunteer Research Network/Project 21/Data/2021-03-29/metadata.csv\")\n",
    "cord_19_metadata = pd.read_csv(\"/Volumes/LaCie/Dispersed Volunteer Research Network/Project 21/Data/210417_deduplicated_data.csv\")\n",
    "fda_biologics = pd.read_csv(\"/Volumes/LaCie/Dispersed Volunteer Research Network/Project 21/Data/FDA Products List (Last Updated ~September 2020) - Sheet1.csv\")\n",
    "#drug_date_df = pd.read_csv(\"/Users/cpollack/project_21_clinical_trials_during_covid_19_pandemic/cord_19/210415_drug_date_df.csv\")"
   ]
  },
  {
   "cell_type": "markdown",
   "metadata": {
    "heading_collapsed": true
   },
   "source": [
    "# Functions"
   ]
  },
  {
   "cell_type": "code",
   "execution_count": 3,
   "metadata": {
    "ExecuteTime": {
     "end_time": "2021-04-17T19:42:14.309620Z",
     "start_time": "2021-04-17T19:42:14.298319Z"
    },
    "hidden": true
   },
   "outputs": [],
   "source": [
    "def find_drug(abstract, drug, date, cord_uid):\n",
    "    '''\n",
    "        Function that will identify whether the drug of interest is in the abstract of interest and, if so, return a formatted dictionary that can be appeneded to a dataframe\n",
    "        Parameters:\n",
    "            abstract (str): The abstract of interest (assumed to be all lowercase)\n",
    "            drug (str): The drug of interest (assumed to be all lowercase)\n",
    "            date (str): The date that the manuscript was published (will only be used if drug in abstract)\"\n",
    "            cord_uid (str): The unique identifier that we can use to link the abstract back to the CORD-19 metadata file (will only be used if drug in abstract)\"\n",
    "       \n",
    "       Return:\n",
    "            dict_return (dict): A dictionary with the drug, date of publication, and cord_uid for the artcile\n",
    "     '''\n",
    "    if drug == \"chloroquine\": #Adding this extra step or else it will be duplicated with hydroxychloroquine\n",
    "        if f\" {drug}\" in abstract:\n",
    "            dict_return = {\"drug\": drug,\n",
    "                           \"date\": date,\n",
    "                           \"cord_uid\": cord_uid}\n",
    "            return dict_return\n",
    "    \n",
    "    elif drug in abstract:\n",
    "        dict_return = {\"drug\": drug,\n",
    "                       \"date\": date,\n",
    "                       \"cord_uid\": cord_uid}\n",
    "        return dict_return"
   ]
  },
  {
   "cell_type": "markdown",
   "metadata": {},
   "source": [
    "# Creating Processed List of Biologics"
   ]
  },
  {
   "cell_type": "code",
   "execution_count": 21,
   "metadata": {
    "ExecuteTime": {
     "end_time": "2021-04-17T20:08:10.421868Z",
     "start_time": "2021-04-17T20:08:10.401906Z"
    }
   },
   "outputs": [],
   "source": [
    "fda_biologics[\"processed\"] = fda_biologics.PRODUCT.str.replace(\"_\", \" \")\n",
    "fda_biologics.processed = fda_biologics.processed.str.lower()\n",
    "fda_biologics_list = [y for x in fda_biologics.processed.tolist() for y in x.split('/')]"
   ]
  },
  {
   "cell_type": "markdown",
   "metadata": {},
   "source": [
    "# COVID-19 Related Term"
   ]
  },
  {
   "cell_type": "markdown",
   "metadata": {},
   "source": [
    "Terms  pulled from NIH MeSH: https://www.ncbi.nlm.nih.gov/mesh/2052179"
   ]
  },
  {
   "cell_type": "code",
   "execution_count": 5,
   "metadata": {
    "ExecuteTime": {
     "end_time": "2021-04-17T19:42:21.587572Z",
     "start_time": "2021-04-17T19:42:21.584612Z"
    }
   },
   "outputs": [],
   "source": [
    "covid_19_terms = [\"COVID 19\", \"COVID-19\", \"2019-nCoV\", \"2019 nCoV\", \"Coronavirus Disease-19\", \"Coronavirus Disease 19\", \n",
    "                  \" 2019 Novel Coronavirus\", \"COVID19\", \"Coronavirus Disease 2019\", \"SARS Coronavirus 2 Infection\", \n",
    "                  \"SARS-CoV-2\", \"SARS CoV 2\"]"
   ]
  },
  {
   "cell_type": "markdown",
   "metadata": {
    "heading_collapsed": true
   },
   "source": [
    "# Deduplication"
   ]
  },
  {
   "cell_type": "markdown",
   "metadata": {
    "hidden": true
   },
   "source": [
    "## Deduplication Based on CORD_UID"
   ]
  },
  {
   "cell_type": "code",
   "execution_count": 6,
   "metadata": {
    "ExecuteTime": {
     "end_time": "2021-04-17T19:42:27.392130Z",
     "start_time": "2021-04-17T19:42:26.331527Z"
    },
    "hidden": true
   },
   "outputs": [
    {
     "name": "stdout",
     "output_type": "stream",
     "text": [
      "23547\n",
      "322243\n"
     ]
    }
   ],
   "source": [
    "cord_19_metadata_duplicated = cord_19_metadata[cord_19_metadata.duplicated([\"cord_uid\"], keep = False)]\n",
    "cord_19_metadata_duplicated #46526 duplicated values\n",
    "\n",
    "# Drop papers missing an abstract, publish time, or journal and run again\n",
    "cord_19_metadata = cord_19_metadata.dropna(subset = [\"abstract\", \"publish_time\", \"journal\"]) #334,601\n",
    "cord_19_metadata_duplicated = cord_19_metadata[cord_19_metadata.duplicated([\"cord_uid\"], keep = False)]\n",
    "print(len(cord_19_metadata_duplicated))\n",
    "#23,547 duplicates\n",
    "cord_19_metadata = cord_19_metadata.drop_duplicates(subset = \"cord_uid\", keep = \"last\")\n",
    "print(len(cord_19_metadata)) #322,243"
   ]
  },
  {
   "cell_type": "markdown",
   "metadata": {
    "hidden": true
   },
   "source": [
    "## Further deduplication based on PMCID"
   ]
  },
  {
   "cell_type": "markdown",
   "metadata": {
    "hidden": true
   },
   "source": [
    "Note: No duplicates by `sha`, `pmcid`, `doi`, `who_covidence_id`, `arxiv_id` "
   ]
  },
  {
   "cell_type": "code",
   "execution_count": 7,
   "metadata": {
    "ExecuteTime": {
     "end_time": "2021-04-17T19:42:31.265332Z",
     "start_time": "2021-04-17T19:42:30.771350Z"
    },
    "hidden": true,
    "scrolled": true
   },
   "outputs": [
    {
     "data": {
      "text/plain": [
       "322135"
      ]
     },
     "execution_count": 7,
     "metadata": {},
     "output_type": "execute_result"
    }
   ],
   "source": [
    "cord_19_metadata_duplicated = cord_19_metadata.dropna(subset = [\"pubmed_id\"])[cord_19_metadata.dropna(subset = [\"pubmed_id\"]).duplicated([\"pubmed_id\"], keep = \"last\")]\n",
    "len(cord_19_metadata_duplicated) #108 duplicated values\n",
    "\n",
    "cord_19_metadata = cord_19_metadata[(~cord_19_metadata.duplicated([\"pubmed_id\"], keep = \"last\")) | (cord_19_metadata['pubmed_id'].isnull())]\n",
    "len(cord_19_metadata) #322,135"
   ]
  },
  {
   "cell_type": "markdown",
   "metadata": {
    "hidden": true
   },
   "source": [
    "## Further deduplication based on s2"
   ]
  },
  {
   "cell_type": "markdown",
   "metadata": {
    "hidden": true
   },
   "source": [
    "### Two duplicate s2 values"
   ]
  },
  {
   "cell_type": "code",
   "execution_count": 9,
   "metadata": {
    "ExecuteTime": {
     "end_time": "2021-04-17T19:44:42.231351Z",
     "start_time": "2021-04-17T19:43:16.641035Z"
    },
    "hidden": true,
    "scrolled": false
   },
   "outputs": [
    {
     "name": "stdout",
     "output_type": "stream",
     "text": [
      "154332\n",
      "75746\n",
      "Cannot convert to int at 423077 - converting to date instead\n",
      "Cannot convert to int at 137946 - converting to date instead\n",
      "Cannot convert to int at 422810 - converting to date instead\n",
      "Cannot convert to int at 139663 - converting to date instead\n",
      "Cannot convert to int at 473795 - converting to date instead\n",
      "Cannot convert to int at 443946 - converting to date instead\n",
      "Cannot convert to int at 438195 - converting to date instead\n",
      "Cannot convert to int at 476298 - converting to date instead\n",
      "Cannot convert to int at 206726 - converting to date instead\n",
      "Cannot convert to int at 398617 - converting to date instead\n",
      "Cannot convert to int at 133671 - converting to date instead\n"
     ]
    }
   ],
   "source": [
    "cord_19_metadata_duplicated = cord_19_metadata.dropna(subset = [\"s2_id\"])[cord_19_metadata.dropna(subset = [\"s2_id\"]).duplicated([\"s2_id\"], keep = False)]\n",
    "print(len(cord_19_metadata_duplicated)) #154,322\n",
    "s2_id_list = set(cord_19_metadata_duplicated.s2_id)\n",
    "print(len(s2_id_list)) #75,746 unique s2 id's \n",
    "cord_19_metadata_duplicated = cord_19_metadata_duplicated.sort_values([\"s2_id\", \"publish_time\"])\n",
    "s2_id_multi = []\n",
    "cord_19_metadata_duplicated[\"flag\"] = -1\n",
    "\n",
    "#for i in range(0, len(cord_19_metadata_duplicated), 2):\n",
    "for s2_id in s2_id_list:\n",
    "    temp_data = cord_19_metadata_duplicated[cord_19_metadata_duplicated.s2_id == s2_id]\n",
    "    if len(temp_data) == 2:\n",
    "        i1, i2 = temp_data.index #Extract the indices\n",
    "        if len(temp_data.publish_time.loc[i1]) == len(temp_data.publish_time.loc[i2]): #If the lengths are equal\n",
    "            try:\n",
    "                int((temp_data.publish_time.loc[i1]))\n",
    "            except ValueError:\n",
    "                print(f\"Cannot convert to int at {i1} - converting to date instead\")\n",
    "                old_date = pd.to_datetime(temp_data.publish_time.loc[i1])\n",
    "                new_date = pd.to_datetime(temp_data.publish_time.loc[i2])\n",
    "                if old_date <= new_date:\n",
    "                    cord_19_metadata_duplicated.flag.loc[i1] = 1\n",
    "                else:\n",
    "                    cord_19_metadata_duplicated.flag.loc[i2] = 1\n",
    "\n",
    "            else:\n",
    "                if int(temp_data.publish_time.loc[i1]) <= int(temp_data.publish_time.loc[i2]):\n",
    "                # Pick the lowest date as the primary date to keep \n",
    "                    cord_19_metadata_duplicated.flag.loc[i1] = 1\n",
    "                else:\n",
    "                    cord_19_metadata_duplicated.flag.loc[i2] = 1\n",
    "\n",
    "        elif len(temp_data.publish_time.loc[i1]) > len(temp_data.publish_time.loc[i2]): #If the first one has a longer date (pick that one)\n",
    "            cord_19_metadata_duplicated.flag.loc[i1] = 1\n",
    "        else:\n",
    "            cord_19_metadata_duplicated.flag.loc[i2] = 1 \n",
    "            \n",
    "    else:\n",
    "        s2_id_multi.append(s2_id)\n",
    "        #print(cord_19_metadata_duplicated.s2_id.iloc[i], cord_19_metadata_duplicated.s2_id.iloc[i+1])\n",
    "        #print(cord_19_metadata_duplicated.publish_time.iloc[i], cord_19_metadata_duplicated.publish_time.iloc[i+1])\n",
    "        #print(len(cord_19_metadata_duplicated.publish_time.iloc[i]), len(cord_19_metadata_duplicated.publish_time.iloc[i+1]))\n",
    "    #cord_19_metadata_duplicated.sort_values([\"s2_id\", \"publish_time\"]).head(20)"
   ]
  },
  {
   "cell_type": "markdown",
   "metadata": {
    "hidden": true
   },
   "source": [
    "### Triplicate s2 values"
   ]
  },
  {
   "cell_type": "code",
   "execution_count": 10,
   "metadata": {
    "ExecuteTime": {
     "end_time": "2021-04-17T19:44:51.840774Z",
     "start_time": "2021-04-17T19:44:47.737125Z"
    },
    "hidden": true
   },
   "outputs": [],
   "source": [
    "s2_id_four = []\n",
    "for s2_id in s2_id_multi:\n",
    "    temp_data = cord_19_metadata_duplicated[cord_19_metadata_duplicated.s2_id == s2_id]\n",
    "    if len(temp_data) == 3:\n",
    "        #print(s2_id)\n",
    "        keep_longest = temp_data[temp_data.publish_time.apply(lambda x: len(str(x))==10)] \n",
    "        if len(keep_longest) == 1: #If there is only one full date\n",
    "            cord_19_metadata_duplicated.flag.loc[keep_longest.index] = 1\n",
    "        elif len(keep_longest) == 2: #If there are two full dates\n",
    "            i1, i2 = keep_longest.index\n",
    "            old_date = pd.to_datetime(keep_longest.publish_time.loc[i1])\n",
    "            new_date = pd.to_datetime(keep_longest.publish_time.loc[i2])\n",
    "            if old_date <= new_date:\n",
    "                cord_19_metadata_duplicated.flag.loc[i1] = 1\n",
    "            else:\n",
    "                cord_19_metadata_duplicated.flag.loc[i2] = 1\n",
    "        elif len(keep_longest) == 3: #If there are three full dates\n",
    "            i1, i2, i3 = keep_longest.index\n",
    "            min_date = min(pd.to_datetime(keep_longest.publish_time.loc[i1]), pd.to_datetime(keep_longest.publish_time.loc[i2]), pd.to_datetime(keep_longest.publish_time.loc[i3]))\n",
    "            keep_oldest_index = keep_longest[keep_longest.publish_time == min_date].index[0]\n",
    "            cord_19_metadata_duplicated.flag.loc[keep_oldest_index] = 1\n",
    "        else: # If there is no long date, then they must all be years\n",
    "            i1, i2, i3 = temp_data.index\n",
    "            min_date = min(int(temp_data.publish_time.loc[i1]), int(temp_data.publish_time.loc[i2]), int(temp_data.publish_time.loc[i3]))\n",
    "            temp_data_index = temp_data[temp_data.publish_time == str(min_date)].index[0]\n",
    "            cord_19_metadata_duplicated.flag.loc[temp_data_index] = 1\n",
    "    else:\n",
    "        s2_id_four.append(s2_id)"
   ]
  },
  {
   "cell_type": "markdown",
   "metadata": {
    "hidden": true
   },
   "source": [
    "### Quadruple s2 values"
   ]
  },
  {
   "cell_type": "code",
   "execution_count": 11,
   "metadata": {
    "ExecuteTime": {
     "end_time": "2021-04-17T19:44:55.124332Z",
     "start_time": "2021-04-17T19:44:54.882669Z"
    },
    "hidden": true
   },
   "outputs": [],
   "source": [
    "s2_id_five = []\n",
    "for s2_id in s2_id_four:\n",
    "    temp_data = cord_19_metadata_duplicated[cord_19_metadata_duplicated.s2_id == s2_id]\n",
    "    if len(temp_data) == 4:\n",
    "        #print(s2_id)\n",
    "        keep_longest = temp_data[temp_data.publish_time.apply(lambda x: len(str(x))==10)] \n",
    "        if len(keep_longest) == 1: #If there is only one full date\n",
    "            cord_19_metadata_duplicated.flag.loc[keep_longest.index] = 1\n",
    "        elif len(keep_longest) == 2: #If there are two full dates\n",
    "            i1, i2 = keep_longest.index\n",
    "            old_date = pd.to_datetime(keep_longest.publish_time.loc[i1])\n",
    "            new_date = pd.to_datetime(keep_longest.publish_time.loc[i2])\n",
    "            if old_date <= new_date:\n",
    "                cord_19_metadata_duplicated.flag.loc[i1] = 1\n",
    "            else:\n",
    "                cord_19_metadata_duplicated.flag.loc[i2] = 1\n",
    "        elif len(keep_longest) == 3: #If there are three full dates\n",
    "            i1, i2, i3 = keep_longest.index\n",
    "            min_date = min(pd.to_datetime(keep_longest.publish_time.loc[i1]), pd.to_datetime(keep_longest.publish_time.loc[i2]), pd.to_datetime(keep_longest.publish_time.loc[i3]))\n",
    "            keep_oldest_index = keep_longest[keep_longest.publish_time == min_date].index[0]\n",
    "            cord_19_metadata_duplicated.flag.loc[keep_oldest_index] = 1\n",
    "        elif len(keep_longest) == 4: #If there are three full dates\n",
    "            i1, i2, i3, i4 = keep_longest.index\n",
    "            min_date = min(pd.to_datetime(keep_longest.publish_time.loc[i1]), pd.to_datetime(keep_longest.publish_time.loc[i2]), pd.to_datetime(keep_longest.publish_time.loc[i3]), pd.to_datetime(keep_longest.publish_time.loc[i4]))\n",
    "            keep_oldest_index = keep_longest[keep_longest.publish_time == min_date].index[0]\n",
    "            cord_19_metadata_duplicated.flag.loc[keep_oldest_index] = 1\n",
    "        else: # If there is no long date, then they must all be years\n",
    "            i1, i2, i3, i4 = temp_data.index\n",
    "            min_date = min(int(temp_data.publish_time.loc[i1]), int(temp_data.publish_time.loc[i2]), int(temp_data.publish_time.loc[i3]), int(temp_data.publish_time.loc[i4]))\n",
    "            temp_data_index = temp_data[temp_data.publish_time == str(min_date)].index[0]\n",
    "            cord_19_metadata_duplicated.flag.loc[temp_data_index] = 1\n",
    "    else:\n",
    "        s2_id_five.append(s2_id)"
   ]
  },
  {
   "cell_type": "markdown",
   "metadata": {
    "hidden": true
   },
   "source": [
    "### Quintuple s2 values"
   ]
  },
  {
   "cell_type": "code",
   "execution_count": 12,
   "metadata": {
    "ExecuteTime": {
     "end_time": "2021-04-17T19:44:57.463340Z",
     "start_time": "2021-04-17T19:44:57.434674Z"
    },
    "hidden": true
   },
   "outputs": [],
   "source": [
    "s2_id_six = []\n",
    "for s2_id in s2_id_five:\n",
    "    temp_data = cord_19_metadata_duplicated[cord_19_metadata_duplicated.s2_id == s2_id]\n",
    "    if len(temp_data) == 5:\n",
    "        #print(s2_id)\n",
    "        keep_longest = temp_data[temp_data.publish_time.apply(lambda x: len(str(x))==10)] \n",
    "        if len(keep_longest) == 1: #If there is only one full date\n",
    "            cord_19_metadata_duplicated.flag.loc[keep_longest.index] = 1\n",
    "        elif len(keep_longest) == 2: #If there are two full dates\n",
    "            i1, i2 = keep_longest.index\n",
    "            old_date = pd.to_datetime(keep_longest.publish_time.loc[i1])\n",
    "            new_date = pd.to_datetime(keep_longest.publish_time.loc[i2])\n",
    "            if old_date <= new_date:\n",
    "                cord_19_metadata_duplicated.flag.loc[i1] = 1\n",
    "            else:\n",
    "                cord_19_metadata_duplicated.flag.loc[i2] = 1\n",
    "        elif len(keep_longest) == 3: #If there are three full dates\n",
    "            i1, i2, i3 = keep_longest.index\n",
    "            min_date = min(pd.to_datetime(keep_longest.publish_time.loc[i1]), pd.to_datetime(keep_longest.publish_time.loc[i2]), pd.to_datetime(keep_longest.publish_time.loc[i3]))\n",
    "            keep_oldest_index = keep_longest[keep_longest.publish_time == min_date].index[0]\n",
    "            cord_19_metadata_duplicated.flag.loc[keep_oldest_index] = 1\n",
    "        elif len(keep_longest) == 4: #If there are three full dates\n",
    "            i1, i2, i3, i4 = keep_longest.index\n",
    "            min_date = min(pd.to_datetime(keep_longest.publish_time.loc[i1]), pd.to_datetime(keep_longest.publish_time.loc[i2]), pd.to_datetime(keep_longest.publish_time.loc[i3]), pd.to_datetime(keep_longest.publish_time.loc[i4]))\n",
    "            keep_oldest_index = keep_longest[keep_longest.publish_time == min_date].index[0]\n",
    "            cord_19_metadata_duplicated.flag.loc[keep_oldest_index] = 1\n",
    "        elif len(keep_longest) == 5: #If there are three full dates\n",
    "            i1, i2, i3, i4, i5 = keep_longest.index\n",
    "            min_date = min(pd.to_datetime(keep_longest.publish_time.loc[i1]), pd.to_datetime(keep_longest.publish_time.loc[i2]), pd.to_datetime(keep_longest.publish_time.loc[i3]), pd.to_datetime(keep_longest.publish_time.loc[i4]), pd.to_datetime(keep_longest.publish_time.loc[i5]))\n",
    "            keep_oldest_index = keep_longest[keep_longest.publish_time == min_date].index[0]\n",
    "            cord_19_metadata_duplicated.flag.loc[keep_oldest_index] = 1\n",
    "        else: # If there is no long date, then they must all be years\n",
    "            i1, i2, i3, i4, i5 = temp_data.index\n",
    "            min_date = min(int(temp_data.publish_time.loc[i1]), int(temp_data.publish_time.loc[i2]), int(temp_data.publish_time.loc[i3]), int(temp_data.publish_time.loc[i4]), int(temp_data.publish_time.loc[i5]))\n",
    "            temp_data_index = temp_data[temp_data.publish_time == str(min_date)].index[0]\n",
    "            cord_19_metadata_duplicated.flag.loc[temp_data_index] = 1\n",
    "    else:\n",
    "        s2_id_six.append(s2_id)"
   ]
  },
  {
   "cell_type": "markdown",
   "metadata": {
    "hidden": true
   },
   "source": [
    "### Final s2 deduplication step"
   ]
  },
  {
   "cell_type": "code",
   "execution_count": 13,
   "metadata": {
    "ExecuteTime": {
     "end_time": "2021-04-17T19:45:00.706781Z",
     "start_time": "2021-04-17T19:44:59.642582Z"
    },
    "hidden": true
   },
   "outputs": [
    {
     "name": "stdout",
     "output_type": "stream",
     "text": [
      "78586\n"
     ]
    },
    {
     "data": {
      "text/plain": [
       "322135"
      ]
     },
     "execution_count": 13,
     "metadata": {},
     "output_type": "execute_result"
    }
   ],
   "source": [
    "cord_19_metadata_duplicated_s2 = cord_19_metadata_duplicated[cord_19_metadata_duplicated.flag == -1]\n",
    "print(len(cord_19_metadata_duplicated_s2)) #78,586 to drop\n",
    "cord_19_metadata_duplicated_s2 = cord_19_metadata_duplicated_s2.drop(\"flag\", axis = 1)\n",
    "#cord_19_metadata_duplicated_s2.head()\n",
    "cord_19_metadata = cord_19_metadata[~cord_19_metadata.isin(cord_19_metadata_duplicated_s2)]\n",
    "len(cord_19_metadata) #322,135"
   ]
  },
  {
   "cell_type": "markdown",
   "metadata": {
    "heading_collapsed": true
   },
   "source": [
    "# Processing Abstract Data"
   ]
  },
  {
   "cell_type": "code",
   "execution_count": 14,
   "metadata": {
    "ExecuteTime": {
     "end_time": "2021-04-17T19:45:07.647684Z",
     "start_time": "2021-04-17T19:45:05.913663Z"
    },
    "hidden": true
   },
   "outputs": [
    {
     "name": "stdout",
     "output_type": "stream",
     "text": [
      "(322135, 20)\n",
      "(243549, 20)\n"
     ]
    }
   ],
   "source": [
    "cord_19_metadata[\"processed_abstract\"] = cord_19_metadata.abstract.str.lower()\n",
    "print(cord_19_metadata.shape) #322,135 rows before\n",
    "cord_19_metadata = cord_19_metadata[cord_19_metadata.processed_abstract.notna()]\n",
    "print(cord_19_metadata.shape) #243,549 rows after removing rows that had duplicated s2 values"
   ]
  },
  {
   "cell_type": "markdown",
   "metadata": {},
   "source": [
    "# Exporting Deduplicated CORD-19 Data (and 250 random abstracts)"
   ]
  },
  {
   "cell_type": "markdown",
   "metadata": {},
   "source": [
    "## Deduplicated Data"
   ]
  },
  {
   "cell_type": "code",
   "execution_count": 16,
   "metadata": {
    "ExecuteTime": {
     "end_time": "2021-04-17T19:47:40.922360Z",
     "start_time": "2021-04-17T19:47:19.063213Z"
    }
   },
   "outputs": [],
   "source": [
    "cord_19_metadata.to_csv(\"/Volumes/LaCie/Dispersed Volunteer Research Network/Project 21/Data/210417_deduplicated_data.csv\")"
   ]
  },
  {
   "cell_type": "markdown",
   "metadata": {},
   "source": [
    "## Random Rows"
   ]
  },
  {
   "cell_type": "code",
   "execution_count": 20,
   "metadata": {
    "ExecuteTime": {
     "end_time": "2021-04-17T19:51:35.692273Z",
     "start_time": "2021-04-17T19:51:35.656385Z"
    }
   },
   "outputs": [
    {
     "name": "stdout",
     "output_type": "stream",
     "text": [
      "(250, 20)\n",
      "75256     Non-contact infrared thermometry of facial ski...\n",
      "419602    The macrodomain of nsP3 (nsP3MD) is highly con...\n",
      "461886    Recent revolution of cryo-electron microscopy ...\n",
      "93304     BACKGROUND Gender imbalances in academia have ...\n",
      "394485    OBJECTIVE: During COVID-19 pandemic, the insti...\n",
      "Name: abstract, dtype: object\n"
     ]
    }
   ],
   "source": [
    "random.seed(110295)\n",
    "cord_19_metadata_random = cord_19_metadata.sample(n = 250, random_state=110295)\n",
    "print(cord_19_metadata_random.shape)\n",
    "#print(cord_19_metadata_random.head())\n",
    "cord_19_metadata_random = cord_19_metadata_random[\"abstract\"]\n",
    "print(cord_19_metadata_random.head())\n",
    "cord_19_metadata_random.to_csv(\"/Volumes/LaCie/Dispersed Volunteer Research Network/Project 21/Data/210417_random_cord19_250.csv\")"
   ]
  },
  {
   "cell_type": "markdown",
   "metadata": {},
   "source": [
    "# Creating COVID-Specific Data"
   ]
  },
  {
   "cell_type": "code",
   "execution_count": 251,
   "metadata": {
    "ExecuteTime": {
     "end_time": "2021-04-16T03:20:24.541118Z",
     "start_time": "2021-04-16T03:20:19.899524Z"
    }
   },
   "outputs": [
    {
     "name": "stdout",
     "output_type": "stream",
     "text": [
      "(103836, 20)\n"
     ]
    }
   ],
   "source": [
    "cord_19_covid = cord_19_metadata[cord_19_metadata[\"processed_abstract\"].str.contains('|'.join([x.lower() for x in covid_19_terms]))]\n",
    "print(cord_19_covid.shape) #103,836 when only keeping those that directly mention COVID-19\""
   ]
  },
  {
   "cell_type": "markdown",
   "metadata": {},
   "source": [
    "# Filtering to Only Include Biologics of Interest"
   ]
  },
  {
   "cell_type": "code",
   "execution_count": 254,
   "metadata": {
    "ExecuteTime": {
     "end_time": "2021-04-16T03:23:53.992873Z",
     "start_time": "2021-04-16T03:22:42.045388Z"
    }
   },
   "outputs": [
    {
     "name": "stdout",
     "output_type": "stream",
     "text": [
      "(6552, 20)\n"
     ]
    }
   ],
   "source": [
    "cord_19_covid_fda = cord_19_covid[cord_19_covid[\"processed_abstract\"].str.contains('|'.join(fda_biologics_list))]\n",
    "print(cord_19_covid_fda.shape) #6,552 when only keeping those that directly mention COVID-19 and one of the biologics\n",
    "cord_19_covid_fda = cord_19_covid_fda.reset_index(drop = True)"
   ]
  },
  {
   "cell_type": "markdown",
   "metadata": {},
   "source": [
    "# Creating new drug-specific dataframe"
   ]
  },
  {
   "cell_type": "code",
   "execution_count": 278,
   "metadata": {
    "ExecuteTime": {
     "end_time": "2021-04-16T03:48:12.380155Z",
     "start_time": "2021-04-16T03:42:44.604822Z"
    },
    "scrolled": true
   },
   "outputs": [
    {
     "name": "stdout",
     "output_type": "stream",
     "text": [
      "0\n",
      "1000\n",
      "2000\n",
      "3000\n",
      "4000\n",
      "5000\n",
      "6000\n"
     ]
    }
   ],
   "source": [
    "drug_date_df = pd.DataFrame()\n",
    "\n",
    "for row in range(0, len(cord_19_covid_fda)):\n",
    "    if row % 1000 == 0:\n",
    "        print(row)\n",
    "    for drug in fda_biologics_list:\n",
    "        row_to_append = find_drug(cord_19_covid_fda.processed_abstract[row], \n",
    "                                  drug, \n",
    "                                  cord_19_covid_fda.publish_time[row], \n",
    "                                  cord_19_covid_fda.cord_uid[row])\n",
    "        \n",
    "        drug_date_df = drug_date_df.append(row_to_append, ignore_index = True)"
   ]
  },
  {
   "cell_type": "code",
   "execution_count": 279,
   "metadata": {
    "ExecuteTime": {
     "end_time": "2021-04-16T03:48:20.241060Z",
     "start_time": "2021-04-16T03:48:20.202818Z"
    }
   },
   "outputs": [],
   "source": [
    "drug_date_df.to_csv(\"210415_drug_date_df.csv\")"
   ]
  },
  {
   "cell_type": "markdown",
   "metadata": {},
   "source": [
    "# Processing drug_date_df (can start here since output is saved)"
   ]
  },
  {
   "cell_type": "markdown",
   "metadata": {},
   "source": [
    "## Converting date column into date"
   ]
  },
  {
   "cell_type": "code",
   "execution_count": 263,
   "metadata": {
    "ExecuteTime": {
     "end_time": "2021-04-16T03:36:09.348789Z",
     "start_time": "2021-04-16T03:36:09.341925Z"
    }
   },
   "outputs": [
    {
     "name": "stdout",
     "output_type": "stream",
     "text": [
      "12094\n"
     ]
    }
   ],
   "source": [
    "#12,094 rows, suggests some abstracts mention multiple drugs\n",
    "print(len(drug_date_df))\n",
    "drug_date_df[\"date_date\"] = pd.to_datetime(drug_date_df[\"date\"], format = \"%Y-%m-%d\")"
   ]
  },
  {
   "cell_type": "markdown",
   "metadata": {},
   "source": [
    "## Creating new dataframe that doesn't include hydroxychloroquine (may be duplicated)"
   ]
  },
  {
   "cell_type": "code",
   "execution_count": null,
   "metadata": {
    "ExecuteTime": {
     "end_time": "2021-04-03T19:14:15.985541Z",
     "start_time": "2021-04-03T19:14:15.977016Z"
    }
   },
   "outputs": [],
   "source": [
    "drug_date_df_no_hydroxy = drug_date_df.loc[drug_date_df[\"drug\"] != \"hydroxychloroquine\"] \n",
    "drug_date_df_no_hydroxy.shape\n",
    "#23,848 rows to #19,824 rows"
   ]
  },
  {
   "cell_type": "markdown",
   "metadata": {},
   "source": [
    "## Remove rows that don't have a date or the date is only the year"
   ]
  },
  {
   "cell_type": "code",
   "execution_count": null,
   "metadata": {
    "ExecuteTime": {
     "end_time": "2021-04-03T19:14:17.518831Z",
     "start_time": "2021-04-03T19:14:17.493764Z"
    }
   },
   "outputs": [],
   "source": [
    "drug_date_df_no_hydroxy = drug_date_df_no_hydroxy[(drug_date_df_no_hydroxy.date != \"2019\") & \n",
    "                                                  (drug_date_df_no_hydroxy.date != \"2020\") & \n",
    "                                                  (drug_date_df_no_hydroxy.date != \"2021\")&\n",
    "                                                  (drug_date_df_no_hydroxy.date.notnull())]\n",
    "drug_date_df_no_hydroxy #9,304 rows"
   ]
  },
  {
   "cell_type": "markdown",
   "metadata": {
    "ExecuteTime": {
     "end_time": "2021-04-03T18:09:49.881511Z",
     "start_time": "2021-04-03T18:09:48.894544Z"
    },
    "heading_collapsed": true
   },
   "source": [
    "# Visualization Over time"
   ]
  },
  {
   "cell_type": "markdown",
   "metadata": {
    "hidden": true
   },
   "source": [
    "## Preprocessing for generic date vs. drug"
   ]
  },
  {
   "cell_type": "code",
   "execution_count": null,
   "metadata": {
    "ExecuteTime": {
     "end_time": "2021-04-03T19:15:31.810996Z",
     "start_time": "2021-04-03T19:15:31.787946Z"
    },
    "hidden": true,
    "scrolled": true
   },
   "outputs": [],
   "source": [
    "drug_date_df_no_hydroxy = drug_date_df_no_hydroxy.sort_values(by = \"date_date\")\n",
    "date_count = drug_date_df_no_hydroxy.groupby([\"date_date\"]).agg(func = \"count\")\n",
    "date_count = date_count.reset_index()\n",
    "date_count = date_count[date_count[\"date_date\"] <= \"2021-03-29\"]\n",
    "date_count"
   ]
  },
  {
   "cell_type": "markdown",
   "metadata": {
    "hidden": true
   },
   "source": [
    "## Actual Visualization"
   ]
  },
  {
   "cell_type": "code",
   "execution_count": null,
   "metadata": {
    "ExecuteTime": {
     "end_time": "2021-04-03T19:46:26.860567Z",
     "start_time": "2021-04-03T19:46:26.440002Z"
    },
    "hidden": true
   },
   "outputs": [],
   "source": [
    "fig, ax = plt.subplots(figsize=(16, 6))\n",
    "sns.set_style(\"ticks\")\n",
    "plot = sns.lineplot(data = date_count,\n",
    "             x = \"date_date\",\n",
    "             y = \"drug\")\n",
    "sns.despine(offset = 10)\n",
    "ax.set(xlabel=\"Date\", \n",
    "       ylabel=\"Count\",\n",
    "       title=\"Variations in Publications Mentioning Biologics in CORD-19 Over Time\")\n",
    "ax.xaxis.set_major_locator(mdates.WeekdayLocator(interval=4))\n",
    "ax.xaxis.set_major_formatter(DateFormatter(\"%m/%y\"))\n",
    "ax.figure.savefig(\"210403_drug_time.tiff\")"
   ]
  },
  {
   "cell_type": "markdown",
   "metadata": {
    "heading_collapsed": true
   },
   "source": [
    "# Drug-Specific Visualization Over Time"
   ]
  },
  {
   "cell_type": "markdown",
   "metadata": {
    "hidden": true
   },
   "source": [
    "## Preprocessing"
   ]
  },
  {
   "cell_type": "code",
   "execution_count": null,
   "metadata": {
    "ExecuteTime": {
     "end_time": "2021-04-03T19:49:46.115025Z",
     "start_time": "2021-04-03T19:49:46.092318Z"
    },
    "hidden": true
   },
   "outputs": [],
   "source": [
    "drug_date_count = drug_date_df_no_hydroxy.groupby([\"date_date\", \"drug\"]).agg(func = \"count\")\n",
    "drug_date_count = drug_date_count.reset_index()\n",
    "drug_date_count = drug_date_count[drug_date_count[\"date_date\"] <= \"2021-03-29\"]\n",
    "drug_date_count"
   ]
  },
  {
   "cell_type": "markdown",
   "metadata": {
    "heading_collapsed": true,
    "hidden": true
   },
   "source": [
    "## Plotting"
   ]
  },
  {
   "cell_type": "code",
   "execution_count": null,
   "metadata": {
    "ExecuteTime": {
     "end_time": "2021-04-03T19:45:19.185360Z",
     "start_time": "2021-04-03T19:45:11.953759Z"
    },
    "hidden": true
   },
   "outputs": [],
   "source": [
    "sns.set_style(\"ticks\")\n",
    "plot = sns.FacetGrid(drug_date_count,\n",
    "                    col = \"drug\",\n",
    "                    hue = \"drug\",\n",
    "                    col_wrap = 5)\n",
    "plot.map_dataframe(sns.lineplot, \n",
    "         x = \"date_date\", \n",
    "         y = \"date\")\n",
    "sns.despine(offset = 10)\n",
    "\n",
    "axes = plot.axes.flatten()\n",
    "for ax in axes:\n",
    "    ax.set_xlabel(\"Date\")\n",
    "    ax.xaxis.set_major_locator(mdates.WeekdayLocator(interval=12))\n",
    "    ax.xaxis.set_major_formatter(DateFormatter(\"%m/%y\"))\n",
    "    ax.tick_params(axis = \"x\",\n",
    "                   labelsize = 10,\n",
    "                   rotation = 45)\n",
    "    ax.set_ylabel(\"Count\")\n",
    "plot.tight_layout()\n",
    "plot.set_titles(col_template = \"{col_name}\")\n",
    "#ax.set(xlabel=\"Date\", \n",
    "#       ylabel=\"Count\",\n",
    "#       title=\"Variations in Publications Mentioning Biologics in CORD-19 Over Time\")\n",
    "#ax.xaxis.set_major_locator(mdates.WeekdayLocator(interval=4))\n",
    "#ax.xaxis.set_major_formatter(DateFormatter(\"%m/%y\"))\n",
    "plot.savefig(\"210403_drug_facet.tiff\")"
   ]
  },
  {
   "cell_type": "markdown",
   "metadata": {
    "heading_collapsed": true
   },
   "source": [
    "# Exporting counts of each drug over time"
   ]
  },
  {
   "cell_type": "code",
   "execution_count": null,
   "metadata": {
    "ExecuteTime": {
     "end_time": "2021-04-03T19:50:00.965890Z",
     "start_time": "2021-04-03T19:50:00.960902Z"
    },
    "hidden": true
   },
   "outputs": [],
   "source": [
    "drug_date_count = drug_date_count.drop([\"Unnamed: 0\", \"cord_uid\"], axis = 1)\n",
    "drug_date_count.columns = [\"date\", \"drug\", \"count\"]"
   ]
  },
  {
   "cell_type": "code",
   "execution_count": null,
   "metadata": {
    "ExecuteTime": {
     "end_time": "2021-04-03T19:54:43.142233Z",
     "start_time": "2021-04-03T19:54:43.128645Z"
    },
    "hidden": true
   },
   "outputs": [],
   "source": [
    "drug_date_count_no_hydroxy = drug_date_count.merge(drug_date_df_no_hydroxy,\n",
    "                                                   left_on = [\"date\", \"drug\"],\n",
    "                                                   right_on = [\"date_date\", \"drug\"])\n",
    "drug_date_count_no_hydroxy = drug_date_count_no_hydroxy.drop([\"Unnamed: 0\", \"date_y\", \"date_date\"], axis = 1)\n",
    "drug_date_count_no_hydroxy.columns = [\"date\", \"drug\", \"count\", \"cord_uid\"]"
   ]
  },
  {
   "cell_type": "code",
   "execution_count": null,
   "metadata": {
    "ExecuteTime": {
     "end_time": "2021-04-03T19:55:25.654902Z",
     "start_time": "2021-04-03T19:55:25.559335Z"
    },
    "hidden": true
   },
   "outputs": [],
   "source": [
    "drug_date_count_no_hydroxy.to_csv(\"210403_drug_date_count_no_hydroxy.csv\")"
   ]
  },
  {
   "cell_type": "markdown",
   "metadata": {},
   "source": [
    "# Preprints vs. Prints"
   ]
  },
  {
   "cell_type": "markdown",
   "metadata": {
    "heading_collapsed": true
   },
   "source": [
    "## Generate Preprint List"
   ]
  },
  {
   "cell_type": "code",
   "execution_count": null,
   "metadata": {
    "ExecuteTime": {
     "end_time": "2021-04-03T22:28:59.555458Z",
     "start_time": "2021-04-03T22:28:59.547528Z"
    },
    "hidden": true
   },
   "outputs": [],
   "source": [
    "journal_list = cord_19_covid_fda.journal.unique().tolist()\n",
    "journal_list = [str(x).lower() for x in journal_list]\n",
    "preprint_list = [j for j in journal_list if \"rxiv\" in j]"
   ]
  },
  {
   "cell_type": "markdown",
   "metadata": {
    "heading_collapsed": true
   },
   "source": [
    "## Only keep those that have a journal"
   ]
  },
  {
   "cell_type": "code",
   "execution_count": null,
   "metadata": {
    "hidden": true
   },
   "outputs": [],
   "source": [
    "cord_19_covid_fda_journal = cord_19_covid_fda[cord_19_covid_fda.journal.notna()]\n",
    "cord_19_covid_fda_journal.shape #11,667"
   ]
  },
  {
   "cell_type": "markdown",
   "metadata": {
    "heading_collapsed": true
   },
   "source": [
    "## Adding Flag"
   ]
  },
  {
   "cell_type": "code",
   "execution_count": null,
   "metadata": {
    "ExecuteTime": {
     "end_time": "2021-04-03T22:42:51.497358Z",
     "start_time": "2021-04-03T22:42:51.477583Z"
    },
    "hidden": true
   },
   "outputs": [],
   "source": [
    "cord_19_covid_fda_journal[\"journal_processed\"] = cord_19_covid_fda_journal.journal.str.lower()\n",
    "cord_19_covid_fda_journal[\"preprint_indicator\"] = cord_19_covid_fda.journal_processed.isin(preprint_list).astype(int)"
   ]
  },
  {
   "cell_type": "markdown",
   "metadata": {
    "heading_collapsed": true
   },
   "source": [
    "## Preprocessing for Visualization"
   ]
  },
  {
   "cell_type": "code",
   "execution_count": null,
   "metadata": {
    "ExecuteTime": {
     "end_time": "2021-04-03T22:46:38.985125Z",
     "start_time": "2021-04-03T22:46:38.979914Z"
    },
    "hidden": true
   },
   "outputs": [],
   "source": [
    "cord_19_covid_fda_journal_flag = cord_19_covid_fda_journal[[\"cord_uid\", \"preprint_indicator\"]]"
   ]
  },
  {
   "cell_type": "markdown",
   "metadata": {
    "heading_collapsed": true
   },
   "source": [
    "## Redoing Visualizations"
   ]
  },
  {
   "cell_type": "markdown",
   "metadata": {
    "ExecuteTime": {
     "end_time": "2021-04-03T22:50:04.096512Z",
     "start_time": "2021-04-03T22:50:04.094183Z"
    },
    "heading_collapsed": true,
    "hidden": true
   },
   "source": [
    "### Preprocessing for Generic Over Time"
   ]
  },
  {
   "cell_type": "code",
   "execution_count": null,
   "metadata": {
    "ExecuteTime": {
     "end_time": "2021-04-03T22:49:45.715702Z",
     "start_time": "2021-04-03T22:49:45.682133Z"
    },
    "hidden": true
   },
   "outputs": [],
   "source": [
    "drug_date_df_no_hydroxy_preprint = drug_date_df_no_hydroxy.merge(cord_19_covid_fda_journal_flag,\n",
    "                                                                how = \"left\")\n",
    "date_count_preprint = drug_date_df_no_hydroxy_preprint.groupby([\"date_date\", \"preprint_indicator\"]).agg(func = \"count\")\n",
    "date_count_preprint = date_count_preprint.reset_index()\n",
    "date_count_preprint = date_count_preprint[date_count_preprint[\"date_date\"] <= \"2021-03-29\"]\n",
    "date_count_preprint"
   ]
  },
  {
   "cell_type": "markdown",
   "metadata": {
    "heading_collapsed": true,
    "hidden": true
   },
   "source": [
    "### Visualization"
   ]
  },
  {
   "cell_type": "code",
   "execution_count": null,
   "metadata": {
    "ExecuteTime": {
     "end_time": "2021-04-03T22:57:30.615654Z",
     "start_time": "2021-04-03T22:57:30.062443Z"
    },
    "hidden": true
   },
   "outputs": [],
   "source": [
    "fig, ax = plt.subplots(figsize=(16, 6))\n",
    "sns.set_style(\"ticks\")\n",
    "plot = sns.lineplot(data = date_count_preprint,\n",
    "                    x = \"date_date\",\n",
    "                    y = \"drug\",\n",
    "                   hue = \"preprint_indicator\")\n",
    "sns.despine(offset = 10)\n",
    "ax.set(xlabel=\"Date\", \n",
    "       ylabel=\"Count\",\n",
    "       title=\"Variations in Publications Mentioning Biologics in CORD-19 Over Time\")\n",
    "ax.xaxis.set_major_locator(mdates.WeekdayLocator(interval=4))\n",
    "ax.xaxis.set_major_formatter(DateFormatter(\"%m/%y\"))\n",
    "ax.legend(labels=[\"Not a Preprint\", \"Preprint\"])\n",
    "#ax.figure.savefig(\"210403_drug_time_preprint.tiff\")"
   ]
  },
  {
   "cell_type": "markdown",
   "metadata": {
    "heading_collapsed": true,
    "hidden": true
   },
   "source": [
    "### Preprocessing for Drug-Specific Over Time"
   ]
  },
  {
   "cell_type": "code",
   "execution_count": null,
   "metadata": {
    "ExecuteTime": {
     "end_time": "2021-04-04T00:22:25.795123Z",
     "start_time": "2021-04-04T00:22:25.764776Z"
    },
    "hidden": true
   },
   "outputs": [],
   "source": [
    "drug_date_count_preprint = drug_date_df_no_hydroxy_preprint.groupby([\"date_date\", \"preprint_indicator\", \"drug\"]).agg(func = \"count\")\n",
    "drug_date_count_preprint = drug_date_count_preprint.reset_index()\n",
    "drug_date_count_preprint = drug_date_count_preprint[drug_date_count_preprint[\"date_date\"] <= \"2021-03-29\"]\n",
    "drug_date_count_preprint"
   ]
  },
  {
   "cell_type": "markdown",
   "metadata": {
    "heading_collapsed": true,
    "hidden": true
   },
   "source": [
    "### Visualization"
   ]
  },
  {
   "cell_type": "code",
   "execution_count": null,
   "metadata": {
    "ExecuteTime": {
     "end_time": "2021-04-04T00:32:14.818802Z",
     "start_time": "2021-04-04T00:32:04.902410Z"
    },
    "hidden": true
   },
   "outputs": [],
   "source": [
    "sns.set_style(\"ticks\")\n",
    "plot = sns.FacetGrid(drug_date_count_preprint,\n",
    "                    col = \"drug\",\n",
    "                    hue = \"preprint_indicator\",\n",
    "                    col_wrap = 5)\n",
    "plot.map_dataframe(sns.lineplot, \n",
    "         x = \"date_date\", \n",
    "         y = \"date\").add_legend(title = \"Type of Manuscript\",\n",
    "                                labels=[\"Not a Preprint\", \"Preprint\"])\n",
    "sns.despine(offset = 10)\n",
    "axes = plot.axes.flatten()\n",
    "for ax in axes:\n",
    "    ax.set_xlabel(\"Date\")\n",
    "    ax.xaxis.set_major_locator(mdates.WeekdayLocator(interval=12))\n",
    "    ax.xaxis.set_major_formatter(DateFormatter(\"%m/%y\"))\n",
    "    ax.tick_params(axis = \"x\",\n",
    "                   labelsize = 10,\n",
    "                   rotation = 45)\n",
    "    ax.set_ylabel(\"Count\")\n",
    "plot.tight_layout()\n",
    "plot.set_titles(col_template = \"{col_name}\")\n",
    "\n",
    "\n",
    "#ax.set(xlabel=\"Date\", \n",
    "#       ylabel=\"Count\",\n",
    "#       title=\"Variations in Publications Mentioning Biologics in CORD-19 Over Time\")\n",
    "#ax.xaxis.set_major_locator(mdates.WeekdayLocator(interval=4))\n",
    "#ax.xaxis.set_major_formatter(DateFormatter(\"%m/%y\"))\n",
    "plot.savefig(\"210403_drug_facet_preprint.tiff\")"
   ]
  },
  {
   "cell_type": "markdown",
   "metadata": {},
   "source": [
    "## Repeat but for general COVID-19 Data "
   ]
  },
  {
   "cell_type": "markdown",
   "metadata": {
    "heading_collapsed": true
   },
   "source": [
    "### Generate Preprint List"
   ]
  },
  {
   "cell_type": "code",
   "execution_count": null,
   "metadata": {
    "ExecuteTime": {
     "end_time": "2021-04-15T17:30:13.877638Z",
     "start_time": "2021-04-15T17:30:13.833868Z"
    },
    "hidden": true
   },
   "outputs": [],
   "source": [
    "journal_list_covid = cord_19_covid.journal.unique().tolist()\n",
    "journal_list_covid = [str(x).lower() for x in journal_list_covid]\n",
    "preprint_list_covid = [j for j in journal_list_covid if \"rxiv\" in j]"
   ]
  },
  {
   "cell_type": "markdown",
   "metadata": {
    "ExecuteTime": {
     "end_time": "2021-04-15T17:28:36.699419Z",
     "start_time": "2021-04-15T17:28:36.692240Z"
    },
    "heading_collapsed": true
   },
   "source": [
    "### Only keep those with a journal"
   ]
  },
  {
   "cell_type": "code",
   "execution_count": null,
   "metadata": {
    "ExecuteTime": {
     "end_time": "2021-04-15T17:30:19.235977Z",
     "start_time": "2021-04-15T17:30:18.905435Z"
    },
    "hidden": true
   },
   "outputs": [],
   "source": [
    "cord_19_covid_journal = cord_19_covid[cord_19_covid.journal.notna()]\n",
    "cord_19_covid_journal.shape #177,233"
   ]
  },
  {
   "cell_type": "markdown",
   "metadata": {
    "heading_collapsed": true
   },
   "source": [
    "### Adding Flag"
   ]
  },
  {
   "cell_type": "code",
   "execution_count": null,
   "metadata": {
    "ExecuteTime": {
     "end_time": "2021-04-15T17:30:34.768705Z",
     "start_time": "2021-04-15T17:30:34.640893Z"
    },
    "hidden": true
   },
   "outputs": [],
   "source": [
    "cord_19_covid_journal[\"journal_processed\"] = cord_19_covid_journal.journal.str.lower()\n",
    "cord_19_covid_journal[\"preprint_indicator\"] = cord_19_covid_journal.journal_processed.isin(preprint_list_covid).astype(int)"
   ]
  },
  {
   "cell_type": "markdown",
   "metadata": {
    "ExecuteTime": {
     "end_time": "2021-04-15T17:30:39.723538Z",
     "start_time": "2021-04-15T17:30:39.263770Z"
    },
    "heading_collapsed": true
   },
   "source": [
    "### Preprocessing for Visualization"
   ]
  },
  {
   "cell_type": "code",
   "execution_count": null,
   "metadata": {
    "ExecuteTime": {
     "end_time": "2021-04-15T17:33:42.649178Z",
     "start_time": "2021-04-15T17:33:42.640918Z"
    },
    "hidden": true
   },
   "outputs": [],
   "source": [
    "cord_19_covid_journal_flag = cord_19_covid_journal[[\"cord_uid\", \"publish_time\", \"preprint_indicator\"]]"
   ]
  },
  {
   "cell_type": "markdown",
   "metadata": {
    "heading_collapsed": true
   },
   "source": [
    "### Redoing Visualization"
   ]
  },
  {
   "cell_type": "code",
   "execution_count": null,
   "metadata": {
    "ExecuteTime": {
     "end_time": "2021-04-15T17:45:00.124651Z",
     "start_time": "2021-04-15T17:44:59.612163Z"
    },
    "hidden": true
   },
   "outputs": [],
   "source": [
    "date_count_preprint_covid = cord_19_covid_journal_flag.groupby([\"publish_time\", \"preprint_indicator\"]).agg(func = \"count\")\n",
    "date_count_preprint_covid = date_count_preprint_covid.reset_index()\n",
    "date_count_preprint_covid = date_count_preprint_covid[date_count_preprint_covid[\"publish_time\"] <= \"2021-03-29\"]\n",
    "date_count_preprint_covid = date_count_preprint_covid[(date_count_preprint_covid.publish_time != \"2019\") & (date_count_preprint_covid.publish_time != \"2020\") & (date_count_preprint_covid.publish_time != \"2021\")]\n",
    "date_count_preprint_covid[\"date_date\"] = pd.to_datetime(date_count_preprint_covid[\"publish_time\"], format = \"%Y-%m-%d\")\n",
    "\n",
    "fig, ax = plt.subplots(figsize=(16, 6))\n",
    "sns.set_style(\"ticks\")\n",
    "plot = sns.lineplot(data = date_count_preprint_covid,\n",
    "                    x = \"date_date\",\n",
    "                    y = \"cord_uid\",\n",
    "                   hue = \"preprint_indicator\")\n",
    "sns.despine(offset = 10)\n",
    "ax.set(xlabel=\"Date\", \n",
    "       ylabel=\"Count\",\n",
    "       title=\"Variations in Publications Mentioning COVID-19 in CORD-19 Over Time\")\n",
    "ax.xaxis.set_major_locator(mdates.WeekdayLocator(interval=4))\n",
    "ax.xaxis.set_major_formatter(DateFormatter(\"%m/%y\"))\n",
    "ax.legend(labels=[\"Not a Preprint\", \"Preprint\"])\n",
    "ax.figure.savefig(\"210415_covid_time_preprint.tiff\")"
   ]
  }
 ],
 "metadata": {
  "kernelspec": {
   "display_name": "Python 3",
   "language": "python",
   "name": "python3"
  },
  "language_info": {
   "codemirror_mode": {
    "name": "ipython",
    "version": 3
   },
   "file_extension": ".py",
   "mimetype": "text/x-python",
   "name": "python",
   "nbconvert_exporter": "python",
   "pygments_lexer": "ipython3",
   "version": "3.7.4"
  },
  "toc": {
   "base_numbering": 1,
   "nav_menu": {},
   "number_sections": true,
   "sideBar": true,
   "skip_h1_title": false,
   "title_cell": "Table of Contents",
   "title_sidebar": "Contents",
   "toc_cell": false,
   "toc_position": {},
   "toc_section_display": true,
   "toc_window_display": false
  },
  "varInspector": {
   "cols": {
    "lenName": 16,
    "lenType": 16,
    "lenVar": 40
   },
   "kernels_config": {
    "python": {
     "delete_cmd_postfix": "",
     "delete_cmd_prefix": "del ",
     "library": "var_list.py",
     "varRefreshCmd": "print(var_dic_list())"
    },
    "r": {
     "delete_cmd_postfix": ") ",
     "delete_cmd_prefix": "rm(",
     "library": "var_list.r",
     "varRefreshCmd": "cat(var_dic_list()) "
    }
   },
   "types_to_exclude": [
    "module",
    "function",
    "builtin_function_or_method",
    "instance",
    "_Feature"
   ],
   "window_display": false
  }
 },
 "nbformat": 4,
 "nbformat_minor": 4
}
